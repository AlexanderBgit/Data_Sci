{
  "nbformat": 4,
  "nbformat_minor": 0,
  "metadata": {
    "colab": {
      "provenance": []
    },
    "kernelspec": {
      "name": "python3",
      "display_name": "Python 3"
    },
    "language_info": {
      "name": "python"
    }
  },
  "cells": [
    {
      "cell_type": "code",
      "execution_count": 11,
      "metadata": {
        "colab": {
          "base_uri": "https://localhost:8080/"
        },
        "id": "CTEQwiT4OzRo",
        "outputId": "a26a15bd-db26-4721-f013-46fd342c108b"
      },
      "outputs": [
        {
          "output_type": "stream",
          "name": "stdout",
          "text": [
            "[ 1  2  3  4  5  6  7  8  9 10]\n"
          ]
        }
      ],
      "source": [
        "import numpy as np\n",
        "\n",
        "natural = np.array([1, 2, 3, 4, 5, 6, 7, 8, 9, 10])\n",
        "print(natural)"
      ]
    },
    {
      "cell_type": "markdown",
      "source": [
        "1. одновимірний масив (вектор) з першими 10-ма натуральними числами"
      ],
      "metadata": {
        "id": "yYktHYv-UDbF"
      }
    },
    {
      "cell_type": "code",
      "source": [
        "mx = np.zeros((3,3))\n",
        "print(mx)"
      ],
      "metadata": {
        "colab": {
          "base_uri": "https://localhost:8080/"
        },
        "id": "pt2kypo7SJq9",
        "outputId": "5f4b4f69-ef73-4718-f1ec-007ce1edfc7b"
      },
      "execution_count": 12,
      "outputs": [
        {
          "output_type": "stream",
          "name": "stdout",
          "text": [
            "[[0. 0. 0.]\n",
            " [0. 0. 0.]\n",
            " [0. 0. 0.]]\n"
          ]
        }
      ]
    },
    {
      "cell_type": "markdown",
      "source": [
        "2. двовимірний масив (матрицю) розміром 3x3, заповніть його нулями"
      ],
      "metadata": {
        "id": "tnQc_eWrUJIN"
      }
    },
    {
      "cell_type": "code",
      "source": [
        "import random\n",
        "\n",
        "mx = [[random.randint(1, 10) for j in range(5)] for i in range(5)]\n",
        "for i in range(5):\n",
        "  print(mx[i])"
      ],
      "metadata": {
        "colab": {
          "base_uri": "https://localhost:8080/"
        },
        "id": "Z4H53_yyUMI9",
        "outputId": "05280460-30ae-4af2-cc4a-575aa6048e18"
      },
      "execution_count": 13,
      "outputs": [
        {
          "output_type": "stream",
          "name": "stdout",
          "text": [
            "[1, 2, 8, 7, 6]\n",
            "[6, 8, 7, 7, 8]\n",
            "[10, 9, 3, 8, 8]\n",
            "[5, 10, 5, 6, 5]\n",
            "[5, 10, 6, 5, 5]\n"
          ]
        }
      ]
    },
    {
      "cell_type": "markdown",
      "source": [
        " 3. масив розміром 5x5, заповніть його випадковими цілими числами в діапазоні від 1 до 10"
      ],
      "metadata": {
        "id": "_fGeKu-QU9P-"
      }
    },
    {
      "cell_type": "code",
      "source": [
        "#mx = [[random.random() for j in range(4)] for i in range(4)]\n",
        "\n",
        "mx= [[round(random.random(), 5) for j in range(4)] for i in range(4)]\n",
        "for i in range(4):\n",
        "  print(mx[i])"
      ],
      "metadata": {
        "colab": {
          "base_uri": "https://localhost:8080/"
        },
        "id": "1A72mB2RVDhu",
        "outputId": "e3b05dc9-b571-4217-b797-7be152d3226f"
      },
      "execution_count": 14,
      "outputs": [
        {
          "output_type": "stream",
          "name": "stdout",
          "text": [
            "[0.19473, 0.41564, 0.67674, 0.75821]\n",
            "[0.67114, 0.98625, 0.32968, 0.22103]\n",
            "[0.91858, 0.28471, 0.67896, 0.51633]\n",
            "[0.88582, 0.77489, 0.60449, 0.62904]\n"
          ]
        }
      ]
    },
    {
      "cell_type": "markdown",
      "source": [
        "4. масив розміром 4x4, заповніть його випадковими дійсними числами в діапазоні від 0 до 1"
      ],
      "metadata": {
        "id": "H1YXlBmGWXFp"
      }
    },
    {
      "cell_type": "code",
      "source": [
        "aa = np.array([random.randint(1, 10) for _ in range(5)])\n",
        "bb = np.array([random.randint(1, 10) for _ in range(5)])\n",
        "\n",
        "print (\"вектор a\", aa)\n",
        "print (\"вектор b\",bb)\n",
        "print (\"додавання\", aa+bb)\n",
        "print (\"віднімання\", aa-bb)\n",
        "print (\"добуток\", aa*bb)"
      ],
      "metadata": {
        "colab": {
          "base_uri": "https://localhost:8080/"
        },
        "id": "FCfbxQHHWsOA",
        "outputId": "db8a6442-10bc-41ad-f6a0-1ded75c94c13"
      },
      "execution_count": 15,
      "outputs": [
        {
          "output_type": "stream",
          "name": "stdout",
          "text": [
            "вектор a [ 4 10  2  7 10]\n",
            "вектор b [ 5  8 10  5  3]\n",
            "додавання [ 9 18 12 12 13]\n",
            "віднімання [-1  2 -8  2  7]\n",
            "добуток [20 80 20 35 30]\n"
          ]
        }
      ]
    },
    {
      "cell_type": "markdown",
      "source": [
        "5. два одновимірних масиви розміром 5, заповніть їх випадковими цілими числами в діапазоні від 1 до 10\n",
        "виконати операції\n",
        "+ додавання,\n",
        "+ віднімання та\n",
        "+ множення."
      ],
      "metadata": {
        "id": "iTGJu5eQXKRi"
      }
    },
    {
      "cell_type": "code",
      "source": [
        "import random\n",
        "aa = np.array([random.randint(1, 20) for _ in range(7)])\n",
        "bb = np.array([random.randint(1, 30) for _ in range(7)])\n",
        "print (\"вектор a\", aa)\n",
        "print (\"вектор b\", bb)\n",
        "print(np.dot(aa, bb))"
      ],
      "metadata": {
        "id": "5-ru3yDVXNGR",
        "colab": {
          "base_uri": "https://localhost:8080/"
        },
        "outputId": "92b5558c-d22e-4cde-b058-00457445aa74"
      },
      "execution_count": 16,
      "outputs": [
        {
          "output_type": "stream",
          "name": "stdout",
          "text": [
            "вектор a [15  5 19  3 11  5 13]\n",
            "вектор b [ 1  2  4  9  2 21 29]\n",
            "632\n"
          ]
        }
      ]
    },
    {
      "cell_type": "markdown",
      "source": [
        "6. два вектори розміром 7, заповніть довільними числами та знайдіть їх скалярний добуток"
      ],
      "metadata": {
        "id": "uo4qbOebJeHJ"
      }
    },
    {
      "cell_type": "code",
      "source": [
        "a = np.random.randint(1, 11, (2, 2))\n",
        "print(a)\n",
        "\n",
        "b = np.random.randint(1, 11, (2, 3))\n",
        "print(b)\n",
        "\n",
        "c = np.dot(a, b)\n",
        "print(c)"
      ],
      "metadata": {
        "colab": {
          "base_uri": "https://localhost:8080/"
        },
        "id": "J-yTkwQuJi-N",
        "outputId": "58531aba-f87e-4482-907d-6daa2bb0c445"
      },
      "execution_count": 17,
      "outputs": [
        {
          "output_type": "stream",
          "name": "stdout",
          "text": [
            "[[4 7]\n",
            " [5 6]]\n",
            "[[ 2  9  5]\n",
            " [ 6 10  7]]\n",
            "[[ 50 106  69]\n",
            " [ 46 105  67]]\n"
          ]
        }
      ]
    },
    {
      "cell_type": "markdown",
      "source": [
        "7. дві матриці розміром 2x2 та 2x3, заповніть їх випадковими цілими числами в діапазоні від 1 до 10 та перемножте їх між собою"
      ],
      "metadata": {
        "id": "iUGtoTleJk68"
      }
    },
    {
      "cell_type": "code",
      "source": [
        "a = np.random.randint(1, 11, (3, 3))\n",
        "print(a)\n",
        "\n",
        "a_inv = np.linalg.inv(a)\n",
        "#print(a_inv)\n",
        "\n",
        "a_inv_round = np.round(a_inv, 4)\n",
        "print(a_inv_round)"
      ],
      "metadata": {
        "colab": {
          "base_uri": "https://localhost:8080/"
        },
        "id": "-8dVLjWNKrPC",
        "outputId": "e8c1913f-f7e3-4ad1-eadc-83e38769c444"
      },
      "execution_count": 22,
      "outputs": [
        {
          "output_type": "stream",
          "name": "stdout",
          "text": [
            "[[ 9  3  8]\n",
            " [ 5 10  6]\n",
            " [10  4  5]]\n",
            "[[-0.0864 -0.0565  0.206 ]\n",
            " [-0.1163  0.1163  0.0465]\n",
            " [ 0.2658  0.0199 -0.2492]]\n"
          ]
        }
      ]
    },
    {
      "cell_type": "markdown",
      "source": [
        "8. матриця розміром 3x3, заповніть її випадковими цілими числами в діапазоні від 1 до 10 та знайдіть її обернену матрицю."
      ],
      "metadata": {
        "id": "pRnBP2SKK_5p"
      }
    },
    {
      "cell_type": "code",
      "source": [
        "a = np.random.random((4, 4))\n",
        "#print(a)\n",
        "r_a = np.round(a, 2)\n",
        "b = a.T\n",
        "r_b = r_a.T\n",
        "#print(b)\n",
        "\n",
        "print(r_a)\n",
        "print(r_b)"
      ],
      "metadata": {
        "colab": {
          "base_uri": "https://localhost:8080/"
        },
        "id": "jPP1r5feMJcL",
        "outputId": "b39e2892-b903-4d0b-e325-c0859a5d64eb"
      },
      "execution_count": 27,
      "outputs": [
        {
          "output_type": "stream",
          "name": "stdout",
          "text": [
            "[[0.54 0.29 0.81 0.82]\n",
            " [0.93 0.66 0.33 0.97]\n",
            " [0.89 0.51 0.54 0.27]\n",
            " [0.58 0.32 0.81 0.32]]\n",
            "[[0.54 0.93 0.89 0.58]\n",
            " [0.29 0.66 0.51 0.32]\n",
            " [0.81 0.33 0.54 0.81]\n",
            " [0.82 0.97 0.27 0.32]]\n"
          ]
        }
      ]
    },
    {
      "cell_type": "markdown",
      "source": [
        "9. матрицю розміром 4x4, заповніть її випадковими дійсними числами в діапазоні від 0 до 1 та транспонуйте її."
      ],
      "metadata": {
        "id": "6Fk5bR3tMPj4"
      }
    },
    {
      "cell_type": "code",
      "source": [
        "mtx = np.random.randint(1, 11, (3, 4))\n",
        "print(mtx)\n",
        "\n",
        "vec = np.random.randint(1, 11, (4))\n",
        "print(vec)\n",
        "\n",
        "c = np.dot(mtx, vec)\n",
        "print(c)"
      ],
      "metadata": {
        "colab": {
          "base_uri": "https://localhost:8080/"
        },
        "id": "rfDtSJ3NOPW7",
        "outputId": "e78a2ec5-3360-4df4-e873-75649ad29337"
      },
      "execution_count": 29,
      "outputs": [
        {
          "output_type": "stream",
          "name": "stdout",
          "text": [
            "[[ 4  2  5  3]\n",
            " [ 1  9 10  6]\n",
            " [ 5  3  7  3]]\n",
            "[6 7 9 3]\n",
            "[ 92 177 123]\n"
          ]
        }
      ]
    },
    {
      "cell_type": "markdown",
      "source": [
        "10. матрицю розміром 3x4 та вектор розміром 4, заповніть їх випадковими цілими числами в діапазоні від 1 до 10 та перемножте матрицю на вектор."
      ],
      "metadata": {
        "id": "TFl5_N1-PNdd"
      }
    },
    {
      "cell_type": "code",
      "source": [
        "a = np.random.random((2, 3))\n",
        "b = np.random.random(3)\n",
        "print(b)\n",
        "print(a)\n",
        "c = np.dot(a, b)\n",
        "print(c)"
      ],
      "metadata": {
        "colab": {
          "base_uri": "https://localhost:8080/"
        },
        "id": "PgxrawDlPQA9",
        "outputId": "2f9a0116-e9f5-4de5-c099-443dd706da35"
      },
      "execution_count": 45,
      "outputs": [
        {
          "output_type": "stream",
          "name": "stdout",
          "text": [
            "[0.03347251 0.74592489 0.18534792]\n",
            "[[0.64371756 0.88391162 0.90013025]\n",
            " [0.88778247 0.906978   0.65629265]]\n",
            "[0.84771579 0.82789626]\n"
          ]
        }
      ]
    },
    {
      "cell_type": "markdown",
      "source": [
        "11. Створіть матрицю розміром 2x3 та вектор розміром 3, заповніть їх випадковими дійсними числами в діапазоні від 0 до 1 та перемножте матрицю на вектор."
      ],
      "metadata": {
        "id": "HVV5vtbZPQ8V"
      }
    },
    {
      "cell_type": "code",
      "source": [
        "a = np.random.randint(1, 11, (2, 2))\n",
        "b = np.random.randint(1, 11, (2, 2))\n",
        "\n",
        "print(a)\n",
        "print(b)\n",
        "c = a * b\n",
        "print(c)"
      ],
      "metadata": {
        "colab": {
          "base_uri": "https://localhost:8080/"
        },
        "id": "OwyPAQCtPR8l",
        "outputId": "15182470-aaba-40eb-b73f-36632cda86bf"
      },
      "execution_count": 36,
      "outputs": [
        {
          "output_type": "stream",
          "name": "stdout",
          "text": [
            "[[10  4]\n",
            " [ 8  3]]\n",
            "[[ 1 10]\n",
            " [ 6  3]]\n",
            "[[10 40]\n",
            " [48  9]]\n"
          ]
        }
      ]
    },
    {
      "cell_type": "markdown",
      "source": [
        "12. Створіть дві матриці розміром 2x2, заповніть їх випадковими цілими числами в діапазоні від 1 до 10 та виконайте їхнє поелементне множення."
      ],
      "metadata": {
        "id": "WAhV8gPxPStr"
      }
    },
    {
      "cell_type": "code",
      "source": [
        "a = np.random.randint(1, 11, (2, 2))\n",
        "b = np.random.randint(1, 11, (2, 2))\n",
        "\n",
        "print(a)\n",
        "print(b)\n",
        "c = np.dot(a, b)\n",
        "print(c)\n",
        "d = a @ b\n",
        "print(d)"
      ],
      "metadata": {
        "colab": {
          "base_uri": "https://localhost:8080/"
        },
        "id": "nj8Swa6nPTtt",
        "outputId": "653e89eb-48da-47fb-b9bf-dd3fbeb93d09"
      },
      "execution_count": 42,
      "outputs": [
        {
          "output_type": "stream",
          "name": "stdout",
          "text": [
            "[[8 1]\n",
            " [7 8]]\n",
            "[[1 3]\n",
            " [3 9]]\n",
            "[[11 33]\n",
            " [31 93]]\n",
            "[[11 33]\n",
            " [31 93]]\n"
          ]
        }
      ]
    },
    {
      "cell_type": "markdown",
      "source": [
        "13. Створіть дві матриці розміром 2x2, заповніть їх випадковими цілими числами в діапазоні від 1 до 10 та знайдіть їх добуток."
      ],
      "metadata": {
        "id": "YCMgCgaYPU49"
      }
    },
    {
      "cell_type": "code",
      "source": [
        "a = np.random.randint(1, 101, (5, 5))\n",
        "print(a)\n",
        "print(a.sum())"
      ],
      "metadata": {
        "colab": {
          "base_uri": "https://localhost:8080/"
        },
        "id": "kPnj_taYPV7z",
        "outputId": "35d456d3-3f46-47f9-b90e-c517e4b31172"
      },
      "execution_count": 41,
      "outputs": [
        {
          "output_type": "stream",
          "name": "stdout",
          "text": [
            "[[13 50 75 60 73]\n",
            " [34 81 74 70 10]\n",
            " [60 52  9 50 42]\n",
            " [16 21 66 14 74]\n",
            " [89 18 49 92 54]]\n",
            "1246\n"
          ]
        }
      ]
    },
    {
      "cell_type": "markdown",
      "source": [
        "14. Створіть матрицю розміром 5x5, заповніть її випадковими цілими числами в діапазоні від 1 до 100 та знайдіть суму елементів матриці."
      ],
      "metadata": {
        "id": "oLHfUEKfPW6A"
      }
    },
    {
      "cell_type": "code",
      "source": [
        "a = np.random.randint(1, 11, (4, 4))\n",
        "b = np.random.randint(1, 11, (4, 4))\n",
        "\n",
        "print(a)\n",
        "print(b)\n",
        "c = np.subtract(a, b)\n",
        "print(c)"
      ],
      "metadata": {
        "colab": {
          "base_uri": "https://localhost:8080/"
        },
        "id": "UUjqgOSgPYZ7",
        "outputId": "fca84efe-3728-474e-f4ef-5cb7ce95be4e"
      },
      "execution_count": 44,
      "outputs": [
        {
          "output_type": "stream",
          "name": "stdout",
          "text": [
            "[[ 5  3  1  2]\n",
            " [ 2  6  2  9]\n",
            " [ 1  8 10  7]\n",
            " [ 1  9  2 10]]\n",
            "[[10  4  3  5]\n",
            " [ 9  5  1  3]\n",
            " [ 9  3  5  3]\n",
            " [ 3  3  3  6]]\n",
            "[[-5 -1 -2 -3]\n",
            " [-7  1  1  6]\n",
            " [-8  5  5  4]\n",
            " [-2  6 -1  4]]\n"
          ]
        }
      ]
    },
    {
      "cell_type": "markdown",
      "source": [
        "15. Створіть дві матриці розміром 4x4, заповніть їх випадковими цілими числами в діапазоні від 1 до 10 та знайдіть їхню різницю"
      ],
      "metadata": {
        "id": "d8zrNhm0PY-I"
      }
    },
    {
      "cell_type": "code",
      "source": [
        "a = np.random.random((3, 3))\n",
        "print(np.round(a,2))\n",
        "b = np.sum(a, axis=1)\n",
        "print(np.round(b,2))"
      ],
      "metadata": {
        "colab": {
          "base_uri": "https://localhost:8080/"
        },
        "id": "blkQrmf2PZ5e",
        "outputId": "ac130a2e-41ee-4779-d116-4ed088d0f3bd"
      },
      "execution_count": 55,
      "outputs": [
        {
          "output_type": "stream",
          "name": "stdout",
          "text": [
            "[[0.65 0.42 0.18]\n",
            " [0.41 0.2  0.46]\n",
            " [0.01 0.38 0.96]]\n",
            "[1.25 1.06 1.36]\n"
          ]
        }
      ]
    },
    {
      "cell_type": "markdown",
      "source": [
        "16. Створіть матрицю розміром 3x3, заповніть її випадковими дійсними числами в діапазоні від 0 до 1 та знайдіть вектор-стовпчик, що містить суму елементів кожного рядка матриці."
      ],
      "metadata": {
        "id": "jsR-GISUPanY"
      }
    },
    {
      "cell_type": "code",
      "source": [
        "a = np.random.randint(-10, 10, (3, 4))\n",
        "print(a)\n",
        "b = a**2\n",
        "print(b)\n",
        "c = np.power(a,2)\n",
        "print(c)"
      ],
      "metadata": {
        "colab": {
          "base_uri": "https://localhost:8080/"
        },
        "id": "XWBJ2Fe3Pb2M",
        "outputId": "cccfd4e3-3b2c-431b-9d28-1187c579b399"
      },
      "execution_count": 59,
      "outputs": [
        {
          "output_type": "stream",
          "name": "stdout",
          "text": [
            "[[  4  -5   6  -1]\n",
            " [ -1  -2   6   9]\n",
            " [ -6   1 -10   1]]\n",
            "[[ 16  25  36   1]\n",
            " [  1   4  36  81]\n",
            " [ 36   1 100   1]]\n",
            "[[ 16  25  36   1]\n",
            " [  1   4  36  81]\n",
            " [ 36   1 100   1]]\n"
          ]
        }
      ]
    },
    {
      "cell_type": "markdown",
      "source": [
        "17. Створіть матрицю розміром 3x4 з довільними цілими числами і створіть матрицю з квадратами цих чисел."
      ],
      "metadata": {
        "id": "22ERMEdIPcxb"
      }
    },
    {
      "cell_type": "code",
      "source": [
        "vec = np.random.randint(1, 51, 4)\n",
        "print(vec)\n",
        "bv = np.sqrt(vec)\n",
        "print(np.round(bv,2))"
      ],
      "metadata": {
        "colab": {
          "base_uri": "https://localhost:8080/"
        },
        "id": "mFoYuIRNPdlV",
        "outputId": "35804388-b7a5-4d48-97b0-8e84c91fa0e5"
      },
      "execution_count": 69,
      "outputs": [
        {
          "output_type": "stream",
          "name": "stdout",
          "text": [
            "[27 28 46 26]\n",
            "[5.2  5.29 6.78 5.1 ]\n"
          ]
        }
      ]
    },
    {
      "cell_type": "markdown",
      "source": [
        "18. Створіть вектор розміром 4, заповніть його випадковими цілими числами в діапазоні від 1 до 50 та знайдіть вектор з квадратними коренями цих чисел."
      ],
      "metadata": {
        "id": "llJQ0bd6PepL"
      }
    }
  ]
}
